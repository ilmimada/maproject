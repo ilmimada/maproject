{
 "cells": [
  {
   "cell_type": "markdown",
   "metadata": {},
   "source": [
    "#### URL tableau https://public.tableau.com/app/profile/ilmimada.harfiya/viz/P1M2_ilmimada_harfiya/LondonRoadAccidentAnalysis2021?publish=yes"
   ]
  },
  {
   "cell_type": "markdown",
   "metadata": {},
   "source": [
    "# Milestone 2\n",
    "\n",
    "### Nama   : Ilmimada Harfiya\n",
    "### Batch   : CODA-RMT-007\n",
    "\n",
    "## Program ini dibuat untuk melakukan cleaning data, preprocessing data, analisa data dan visualisasi\n",
    "---"
   ]
  },
  {
   "cell_type": "markdown",
   "metadata": {},
   "source": [
    "## I. IDENTIFIKASI MASALAH"
   ]
  },
  {
   "cell_type": "markdown",
   "metadata": {},
   "source": [
    "### 1. Problem Statement\n",
    "#### Mengidentifikasi faktor utama (lokasi, waktu, jenis kendaraan, kondisi jalan/cuaca) yang membedakan kecelakaan lalu-lintas berat (Serious/Fatal) dengan ringan (Slight) di wilayah London pada tahun 2021 untuk menentukan intervensi keselamatan yang efektif."
   ]
  },
  {
   "cell_type": "markdown",
   "metadata": {},
   "source": [
    "### 2. Penjabaran Masalah\n",
    "####    1. Jam berapa kecelakaan serius paling sering terjadi?\n",
    "####    2. Bagaimana pengaruh kondisi cuaca terhadap tingkat keparahan kecelakaan?\n",
    "####    3. Apakah permukaan jalan menjadi faktor keparahan kecelakaan?\n",
    "####    4. Bagaimana distribusi kecelakaan per hari?\n",
    "####    5. Tipe kendaraan apa saja yang paling banyak kecelakaan?\n",
    "####    6. Bagaimana distribusi jumlah korban (number_of_casualties) pada kecelakaan serius?\n",
    "####    7. Apakah proporsi kecelakaan serius berbeda secara signifikan antara Urban vs Rural area?"
   ]
  },
  {
   "cell_type": "markdown",
   "metadata": {},
   "source": [
    "##  II. Data Loading"
   ]
  },
  {
   "cell_type": "code",
   "execution_count": 63,
   "metadata": {},
   "outputs": [],
   "source": [
    "# import library\n",
    "import pandas as pd\n",
    "import seaborn as sns\n",
    "import matplotlib.pyplot as plt\n",
    "import numpy as np\n",
    "from scipy.stats import chi2_contingency\n",
    "from scipy.stats import mannwhitneyu\n"
   ]
  },
  {
   "cell_type": "code",
   "execution_count": 38,
   "metadata": {},
   "outputs": [],
   "source": [
    "df = pd.read_csv('/Volumes/Data-Disk/Hacktiv8/CODA_RMT_007/Phase_1/tugas/p1-coda007-rmt-m2-ilmimada/Road_Accident_Data.csv', parse_dates=['Accident Date']) # konversi date to date time"
   ]
  },
  {
   "cell_type": "markdown",
   "metadata": {},
   "source": [
    "## III. Data Cleaning and EDA"
   ]
  },
  {
   "cell_type": "code",
   "execution_count": 39,
   "metadata": {},
   "outputs": [
    {
     "data": {
      "text/html": [
       "<div>\n",
       "<style scoped>\n",
       "    .dataframe tbody tr th:only-of-type {\n",
       "        vertical-align: middle;\n",
       "    }\n",
       "\n",
       "    .dataframe tbody tr th {\n",
       "        vertical-align: top;\n",
       "    }\n",
       "\n",
       "    .dataframe thead th {\n",
       "        text-align: right;\n",
       "    }\n",
       "</style>\n",
       "<table border=\"1\" class=\"dataframe\">\n",
       "  <thead>\n",
       "    <tr style=\"text-align: right;\">\n",
       "      <th></th>\n",
       "      <th>Accident_Index</th>\n",
       "      <th>Accident Date</th>\n",
       "      <th>Day_of_Week</th>\n",
       "      <th>Junction_Control</th>\n",
       "      <th>Junction_Detail</th>\n",
       "      <th>Accident_Severity</th>\n",
       "      <th>Latitude</th>\n",
       "      <th>Light_Conditions</th>\n",
       "      <th>Local_Authority_(District)</th>\n",
       "      <th>Carriageway_Hazards</th>\n",
       "      <th>...</th>\n",
       "      <th>Number_of_Casualties</th>\n",
       "      <th>Number_of_Vehicles</th>\n",
       "      <th>Police_Force</th>\n",
       "      <th>Road_Surface_Conditions</th>\n",
       "      <th>Road_Type</th>\n",
       "      <th>Speed_limit</th>\n",
       "      <th>Time</th>\n",
       "      <th>Urban_or_Rural_Area</th>\n",
       "      <th>Weather_Conditions</th>\n",
       "      <th>Vehicle_Type</th>\n",
       "    </tr>\n",
       "  </thead>\n",
       "  <tbody>\n",
       "    <tr>\n",
       "      <th>0</th>\n",
       "      <td>200901BS70001</td>\n",
       "      <td>2021-01-01</td>\n",
       "      <td>Thursday</td>\n",
       "      <td>Give way or uncontrolled</td>\n",
       "      <td>T or staggered junction</td>\n",
       "      <td>Serious</td>\n",
       "      <td>51.512273</td>\n",
       "      <td>Daylight</td>\n",
       "      <td>Kensington and Chelsea</td>\n",
       "      <td>NaN</td>\n",
       "      <td>...</td>\n",
       "      <td>1</td>\n",
       "      <td>2</td>\n",
       "      <td>Metropolitan Police</td>\n",
       "      <td>Dry</td>\n",
       "      <td>One way street</td>\n",
       "      <td>30</td>\n",
       "      <td>15:11</td>\n",
       "      <td>Urban</td>\n",
       "      <td>Fine no high winds</td>\n",
       "      <td>Car</td>\n",
       "    </tr>\n",
       "    <tr>\n",
       "      <th>1</th>\n",
       "      <td>200901BS70002</td>\n",
       "      <td>2021-01-05</td>\n",
       "      <td>Monday</td>\n",
       "      <td>Give way or uncontrolled</td>\n",
       "      <td>Crossroads</td>\n",
       "      <td>Serious</td>\n",
       "      <td>51.514399</td>\n",
       "      <td>Daylight</td>\n",
       "      <td>Kensington and Chelsea</td>\n",
       "      <td>NaN</td>\n",
       "      <td>...</td>\n",
       "      <td>11</td>\n",
       "      <td>2</td>\n",
       "      <td>Metropolitan Police</td>\n",
       "      <td>Wet or damp</td>\n",
       "      <td>Single carriageway</td>\n",
       "      <td>30</td>\n",
       "      <td>10:59</td>\n",
       "      <td>Urban</td>\n",
       "      <td>Fine no high winds</td>\n",
       "      <td>Taxi/Private hire car</td>\n",
       "    </tr>\n",
       "    <tr>\n",
       "      <th>2</th>\n",
       "      <td>200901BS70003</td>\n",
       "      <td>2021-01-04</td>\n",
       "      <td>Sunday</td>\n",
       "      <td>Give way or uncontrolled</td>\n",
       "      <td>T or staggered junction</td>\n",
       "      <td>Slight</td>\n",
       "      <td>51.486668</td>\n",
       "      <td>Daylight</td>\n",
       "      <td>Kensington and Chelsea</td>\n",
       "      <td>NaN</td>\n",
       "      <td>...</td>\n",
       "      <td>1</td>\n",
       "      <td>2</td>\n",
       "      <td>Metropolitan Police</td>\n",
       "      <td>Dry</td>\n",
       "      <td>Single carriageway</td>\n",
       "      <td>30</td>\n",
       "      <td>14:19</td>\n",
       "      <td>Urban</td>\n",
       "      <td>Fine no high winds</td>\n",
       "      <td>Taxi/Private hire car</td>\n",
       "    </tr>\n",
       "    <tr>\n",
       "      <th>3</th>\n",
       "      <td>200901BS70004</td>\n",
       "      <td>2021-01-05</td>\n",
       "      <td>Monday</td>\n",
       "      <td>Auto traffic signal</td>\n",
       "      <td>T or staggered junction</td>\n",
       "      <td>Serious</td>\n",
       "      <td>51.507804</td>\n",
       "      <td>Daylight</td>\n",
       "      <td>Kensington and Chelsea</td>\n",
       "      <td>NaN</td>\n",
       "      <td>...</td>\n",
       "      <td>1</td>\n",
       "      <td>2</td>\n",
       "      <td>Metropolitan Police</td>\n",
       "      <td>Frost or ice</td>\n",
       "      <td>Single carriageway</td>\n",
       "      <td>30</td>\n",
       "      <td>08:10</td>\n",
       "      <td>Urban</td>\n",
       "      <td>Other</td>\n",
       "      <td>Motorcycle over 500cc</td>\n",
       "    </tr>\n",
       "    <tr>\n",
       "      <th>4</th>\n",
       "      <td>200901BS70005</td>\n",
       "      <td>2021-01-06</td>\n",
       "      <td>Tuesday</td>\n",
       "      <td>Auto traffic signal</td>\n",
       "      <td>Crossroads</td>\n",
       "      <td>Serious</td>\n",
       "      <td>51.482076</td>\n",
       "      <td>Darkness - lights lit</td>\n",
       "      <td>Kensington and Chelsea</td>\n",
       "      <td>NaN</td>\n",
       "      <td>...</td>\n",
       "      <td>1</td>\n",
       "      <td>2</td>\n",
       "      <td>Metropolitan Police</td>\n",
       "      <td>Dry</td>\n",
       "      <td>Single carriageway</td>\n",
       "      <td>30</td>\n",
       "      <td>17:25</td>\n",
       "      <td>Urban</td>\n",
       "      <td>Fine no high winds</td>\n",
       "      <td>Car</td>\n",
       "    </tr>\n",
       "  </tbody>\n",
       "</table>\n",
       "<p>5 rows × 21 columns</p>\n",
       "</div>"
      ],
      "text/plain": [
       "  Accident_Index Accident Date Day_of_Week          Junction_Control  \\\n",
       "0  200901BS70001    2021-01-01    Thursday  Give way or uncontrolled   \n",
       "1  200901BS70002    2021-01-05      Monday  Give way or uncontrolled   \n",
       "2  200901BS70003    2021-01-04      Sunday  Give way or uncontrolled   \n",
       "3  200901BS70004    2021-01-05      Monday       Auto traffic signal   \n",
       "4  200901BS70005    2021-01-06     Tuesday       Auto traffic signal   \n",
       "\n",
       "           Junction_Detail Accident_Severity   Latitude  \\\n",
       "0  T or staggered junction           Serious  51.512273   \n",
       "1               Crossroads           Serious  51.514399   \n",
       "2  T or staggered junction            Slight  51.486668   \n",
       "3  T or staggered junction           Serious  51.507804   \n",
       "4               Crossroads           Serious  51.482076   \n",
       "\n",
       "        Light_Conditions Local_Authority_(District) Carriageway_Hazards  ...  \\\n",
       "0               Daylight     Kensington and Chelsea                 NaN  ...   \n",
       "1               Daylight     Kensington and Chelsea                 NaN  ...   \n",
       "2               Daylight     Kensington and Chelsea                 NaN  ...   \n",
       "3               Daylight     Kensington and Chelsea                 NaN  ...   \n",
       "4  Darkness - lights lit     Kensington and Chelsea                 NaN  ...   \n",
       "\n",
       "   Number_of_Casualties  Number_of_Vehicles         Police_Force  \\\n",
       "0                     1                   2  Metropolitan Police   \n",
       "1                    11                   2  Metropolitan Police   \n",
       "2                     1                   2  Metropolitan Police   \n",
       "3                     1                   2  Metropolitan Police   \n",
       "4                     1                   2  Metropolitan Police   \n",
       "\n",
       "  Road_Surface_Conditions           Road_Type Speed_limit   Time  \\\n",
       "0                     Dry      One way street          30  15:11   \n",
       "1             Wet or damp  Single carriageway          30  10:59   \n",
       "2                     Dry  Single carriageway          30  14:19   \n",
       "3            Frost or ice  Single carriageway          30  08:10   \n",
       "4                     Dry  Single carriageway          30  17:25   \n",
       "\n",
       "  Urban_or_Rural_Area  Weather_Conditions           Vehicle_Type  \n",
       "0               Urban  Fine no high winds                    Car  \n",
       "1               Urban  Fine no high winds  Taxi/Private hire car  \n",
       "2               Urban  Fine no high winds  Taxi/Private hire car  \n",
       "3               Urban               Other  Motorcycle over 500cc  \n",
       "4               Urban  Fine no high winds                    Car  \n",
       "\n",
       "[5 rows x 21 columns]"
      ]
     },
     "execution_count": 39,
     "metadata": {},
     "output_type": "execute_result"
    }
   ],
   "source": [
    "df.head()"
   ]
  },
  {
   "cell_type": "code",
   "execution_count": 40,
   "metadata": {},
   "outputs": [],
   "source": [
    "# Rename kolom menjadi huruf kecil\n",
    "df.rename(columns=str.lower, inplace=True)"
   ]
  },
  {
   "cell_type": "code",
   "execution_count": 41,
   "metadata": {},
   "outputs": [
    {
     "name": "stdout",
     "output_type": "stream",
     "text": [
      "<class 'pandas.core.frame.DataFrame'>\n",
      "RangeIndex: 307973 entries, 0 to 307972\n",
      "Data columns (total 21 columns):\n",
      " #   Column                      Non-Null Count   Dtype         \n",
      "---  ------                      --------------   -----         \n",
      " 0   accident_index              307973 non-null  object        \n",
      " 1   accident date               307973 non-null  datetime64[ns]\n",
      " 2   day_of_week                 307973 non-null  object        \n",
      " 3   junction_control            307973 non-null  object        \n",
      " 4   junction_detail             307973 non-null  object        \n",
      " 5   accident_severity           307973 non-null  object        \n",
      " 6   latitude                    307973 non-null  float64       \n",
      " 7   light_conditions            307973 non-null  object        \n",
      " 8   local_authority_(district)  307973 non-null  object        \n",
      " 9   carriageway_hazards         5424 non-null    object        \n",
      " 10  longitude                   307973 non-null  float64       \n",
      " 11  number_of_casualties        307973 non-null  int64         \n",
      " 12  number_of_vehicles          307973 non-null  int64         \n",
      " 13  police_force                307973 non-null  object        \n",
      " 14  road_surface_conditions     307656 non-null  object        \n",
      " 15  road_type                   306439 non-null  object        \n",
      " 16  speed_limit                 307973 non-null  int64         \n",
      " 17  time                        307956 non-null  object        \n",
      " 18  urban_or_rural_area         307973 non-null  object        \n",
      " 19  weather_conditions          301916 non-null  object        \n",
      " 20  vehicle_type                307973 non-null  object        \n",
      "dtypes: datetime64[ns](1), float64(2), int64(3), object(15)\n",
      "memory usage: 49.3+ MB\n"
     ]
    },
    {
     "data": {
      "text/plain": [
       "accident_index                     0\n",
       "accident date                      0\n",
       "day_of_week                        0\n",
       "junction_control                   0\n",
       "junction_detail                    0\n",
       "accident_severity                  0\n",
       "latitude                           0\n",
       "light_conditions                   0\n",
       "local_authority_(district)         0\n",
       "carriageway_hazards           302549\n",
       "longitude                          0\n",
       "number_of_casualties               0\n",
       "number_of_vehicles                 0\n",
       "police_force                       0\n",
       "road_surface_conditions          317\n",
       "road_type                       1534\n",
       "speed_limit                        0\n",
       "time                              17\n",
       "urban_or_rural_area                0\n",
       "weather_conditions              6057\n",
       "vehicle_type                       0\n",
       "dtype: int64"
      ]
     },
     "execution_count": 41,
     "metadata": {},
     "output_type": "execute_result"
    }
   ],
   "source": [
    "df.info()\n",
    "df.isnull().sum()"
   ]
  },
  {
   "cell_type": "code",
   "execution_count": 42,
   "metadata": {},
   "outputs": [
    {
     "data": {
      "text/html": [
       "<div>\n",
       "<style scoped>\n",
       "    .dataframe tbody tr th:only-of-type {\n",
       "        vertical-align: middle;\n",
       "    }\n",
       "\n",
       "    .dataframe tbody tr th {\n",
       "        vertical-align: top;\n",
       "    }\n",
       "\n",
       "    .dataframe thead th {\n",
       "        text-align: right;\n",
       "    }\n",
       "</style>\n",
       "<table border=\"1\" class=\"dataframe\">\n",
       "  <thead>\n",
       "    <tr style=\"text-align: right;\">\n",
       "      <th></th>\n",
       "      <th>accident date</th>\n",
       "      <th>latitude</th>\n",
       "      <th>longitude</th>\n",
       "      <th>number_of_casualties</th>\n",
       "      <th>number_of_vehicles</th>\n",
       "      <th>speed_limit</th>\n",
       "    </tr>\n",
       "  </thead>\n",
       "  <tbody>\n",
       "    <tr>\n",
       "      <th>count</th>\n",
       "      <td>307973</td>\n",
       "      <td>307973.000000</td>\n",
       "      <td>307973.000000</td>\n",
       "      <td>307973.000000</td>\n",
       "      <td>307973.000000</td>\n",
       "      <td>307973.000000</td>\n",
       "    </tr>\n",
       "    <tr>\n",
       "      <th>mean</th>\n",
       "      <td>2021-12-23 22:19:39.804722944</td>\n",
       "      <td>52.487005</td>\n",
       "      <td>-1.368884</td>\n",
       "      <td>1.356882</td>\n",
       "      <td>1.829063</td>\n",
       "      <td>38.866037</td>\n",
       "    </tr>\n",
       "    <tr>\n",
       "      <th>min</th>\n",
       "      <td>2021-01-01 00:00:00</td>\n",
       "      <td>49.914488</td>\n",
       "      <td>-7.516225</td>\n",
       "      <td>1.000000</td>\n",
       "      <td>1.000000</td>\n",
       "      <td>10.000000</td>\n",
       "    </tr>\n",
       "    <tr>\n",
       "      <th>25%</th>\n",
       "      <td>2021-06-28 00:00:00</td>\n",
       "      <td>51.485248</td>\n",
       "      <td>-2.247937</td>\n",
       "      <td>1.000000</td>\n",
       "      <td>1.000000</td>\n",
       "      <td>30.000000</td>\n",
       "    </tr>\n",
       "    <tr>\n",
       "      <th>50%</th>\n",
       "      <td>2021-12-08 00:00:00</td>\n",
       "      <td>52.225943</td>\n",
       "      <td>-1.349258</td>\n",
       "      <td>1.000000</td>\n",
       "      <td>2.000000</td>\n",
       "      <td>30.000000</td>\n",
       "    </tr>\n",
       "    <tr>\n",
       "      <th>75%</th>\n",
       "      <td>2022-06-25 00:00:00</td>\n",
       "      <td>53.415517</td>\n",
       "      <td>-0.206810</td>\n",
       "      <td>1.000000</td>\n",
       "      <td>2.000000</td>\n",
       "      <td>50.000000</td>\n",
       "    </tr>\n",
       "    <tr>\n",
       "      <th>max</th>\n",
       "      <td>2022-12-31 00:00:00</td>\n",
       "      <td>60.598055</td>\n",
       "      <td>1.759398</td>\n",
       "      <td>48.000000</td>\n",
       "      <td>32.000000</td>\n",
       "      <td>70.000000</td>\n",
       "    </tr>\n",
       "    <tr>\n",
       "      <th>std</th>\n",
       "      <td>NaN</td>\n",
       "      <td>1.339011</td>\n",
       "      <td>1.356092</td>\n",
       "      <td>0.815857</td>\n",
       "      <td>0.710477</td>\n",
       "      <td>14.032933</td>\n",
       "    </tr>\n",
       "  </tbody>\n",
       "</table>\n",
       "</div>"
      ],
      "text/plain": [
       "                       accident date       latitude      longitude  \\\n",
       "count                         307973  307973.000000  307973.000000   \n",
       "mean   2021-12-23 22:19:39.804722944      52.487005      -1.368884   \n",
       "min              2021-01-01 00:00:00      49.914488      -7.516225   \n",
       "25%              2021-06-28 00:00:00      51.485248      -2.247937   \n",
       "50%              2021-12-08 00:00:00      52.225943      -1.349258   \n",
       "75%              2022-06-25 00:00:00      53.415517      -0.206810   \n",
       "max              2022-12-31 00:00:00      60.598055       1.759398   \n",
       "std                              NaN       1.339011       1.356092   \n",
       "\n",
       "       number_of_casualties  number_of_vehicles    speed_limit  \n",
       "count         307973.000000       307973.000000  307973.000000  \n",
       "mean               1.356882            1.829063      38.866037  \n",
       "min                1.000000            1.000000      10.000000  \n",
       "25%                1.000000            1.000000      30.000000  \n",
       "50%                1.000000            2.000000      30.000000  \n",
       "75%                1.000000            2.000000      50.000000  \n",
       "max               48.000000           32.000000      70.000000  \n",
       "std                0.815857            0.710477      14.032933  "
      ]
     },
     "execution_count": 42,
     "metadata": {},
     "output_type": "execute_result"
    }
   ],
   "source": [
    "df.describe()"
   ]
  },
  {
   "cell_type": "code",
   "execution_count": 43,
   "metadata": {},
   "outputs": [
    {
     "name": "stderr",
     "output_type": "stream",
     "text": [
      "/var/folders/5y/d2m2nrkx3jv10nbjs86mhh240000gn/T/ipykernel_2969/3640073849.py:6: FutureWarning: A value is trying to be set on a copy of a DataFrame or Series through chained assignment using an inplace method.\n",
      "The behavior will change in pandas 3.0. This inplace method will never work because the intermediate object on which we are setting values always behaves as a copy.\n",
      "\n",
      "For example, when doing 'df[col].method(value, inplace=True)', try using 'df.method({col: value}, inplace=True)' or df[col] = df[col].method(value) instead, to perform the operation inplace on the original object.\n",
      "\n",
      "\n",
      "  df['road_surface_conditions'].fillna(most_freq_surface_conditions, inplace=True)\n",
      "/var/folders/5y/d2m2nrkx3jv10nbjs86mhh240000gn/T/ipykernel_2969/3640073849.py:9: FutureWarning: A value is trying to be set on a copy of a DataFrame or Series through chained assignment using an inplace method.\n",
      "The behavior will change in pandas 3.0. This inplace method will never work because the intermediate object on which we are setting values always behaves as a copy.\n",
      "\n",
      "For example, when doing 'df[col].method(value, inplace=True)', try using 'df.method({col: value}, inplace=True)' or df[col] = df[col].method(value) instead, to perform the operation inplace on the original object.\n",
      "\n",
      "\n",
      "  df['road_type'].fillna(most_freq_road_type, inplace=True)\n",
      "/var/folders/5y/d2m2nrkx3jv10nbjs86mhh240000gn/T/ipykernel_2969/3640073849.py:12: FutureWarning: A value is trying to be set on a copy of a DataFrame or Series through chained assignment using an inplace method.\n",
      "The behavior will change in pandas 3.0. This inplace method will never work because the intermediate object on which we are setting values always behaves as a copy.\n",
      "\n",
      "For example, when doing 'df[col].method(value, inplace=True)', try using 'df.method({col: value}, inplace=True)' or df[col] = df[col].method(value) instead, to perform the operation inplace on the original object.\n",
      "\n",
      "\n",
      "  df['accident_severity'].replace('Fetal', 'Fatal', inplace=True)\n"
     ]
    }
   ],
   "source": [
    "# Drop kolom yang terlalu banyak missing value\n",
    "df.drop(columns='carriageway_hazards', inplace=True)\n",
    "\n",
    "# isi missing value dengan value yang sering muncul\n",
    "most_freq_surface_conditions = df['road_surface_conditions'].mode()[0]\n",
    "df['road_surface_conditions'].fillna(most_freq_surface_conditions, inplace=True)\n",
    "\n",
    "most_freq_road_type = df['road_type'].mode()[0]\n",
    "df['road_type'].fillna(most_freq_road_type, inplace=True)\n",
    "\n",
    "# ganti value Fetal menjadi Fatal\n",
    "df['accident_severity'].replace('Fetal', 'Fatal', inplace=True)\n",
    "\n",
    "# drop kolom yang tidak dipakai\n",
    "df.drop(columns=['junction_control','local_authority_(district)','police_force'], inplace=True)"
   ]
  },
  {
   "cell_type": "code",
   "execution_count": 44,
   "metadata": {},
   "outputs": [
    {
     "name": "stdout",
     "output_type": "stream",
     "text": [
      "<class 'pandas.core.frame.DataFrame'>\n",
      "RangeIndex: 307973 entries, 0 to 307972\n",
      "Data columns (total 17 columns):\n",
      " #   Column                   Non-Null Count   Dtype         \n",
      "---  ------                   --------------   -----         \n",
      " 0   accident_index           307973 non-null  object        \n",
      " 1   accident date            307973 non-null  datetime64[ns]\n",
      " 2   day_of_week              307973 non-null  object        \n",
      " 3   junction_detail          307973 non-null  object        \n",
      " 4   accident_severity        307973 non-null  object        \n",
      " 5   latitude                 307973 non-null  float64       \n",
      " 6   light_conditions         307973 non-null  object        \n",
      " 7   longitude                307973 non-null  float64       \n",
      " 8   number_of_casualties     307973 non-null  int64         \n",
      " 9   number_of_vehicles       307973 non-null  int64         \n",
      " 10  road_surface_conditions  307973 non-null  object        \n",
      " 11  road_type                307973 non-null  object        \n",
      " 12  speed_limit              307973 non-null  int64         \n",
      " 13  time                     307956 non-null  object        \n",
      " 14  urban_or_rural_area      307973 non-null  object        \n",
      " 15  weather_conditions       301916 non-null  object        \n",
      " 16  vehicle_type             307973 non-null  object        \n",
      "dtypes: datetime64[ns](1), float64(2), int64(3), object(11)\n",
      "memory usage: 39.9+ MB\n"
     ]
    },
    {
     "data": {
      "text/plain": [
       "accident_index                0\n",
       "accident date                 0\n",
       "day_of_week                   0\n",
       "junction_detail               0\n",
       "accident_severity             0\n",
       "latitude                      0\n",
       "light_conditions              0\n",
       "longitude                     0\n",
       "number_of_casualties          0\n",
       "number_of_vehicles            0\n",
       "road_surface_conditions       0\n",
       "road_type                     0\n",
       "speed_limit                   0\n",
       "time                         17\n",
       "urban_or_rural_area           0\n",
       "weather_conditions         6057\n",
       "vehicle_type                  0\n",
       "dtype: int64"
      ]
     },
     "execution_count": 44,
     "metadata": {},
     "output_type": "execute_result"
    }
   ],
   "source": [
    "df.info()\n",
    "df.isnull().sum()"
   ]
  },
  {
   "cell_type": "code",
   "execution_count": 46,
   "metadata": {},
   "outputs": [
    {
     "name": "stderr",
     "output_type": "stream",
     "text": [
      "/var/folders/5y/d2m2nrkx3jv10nbjs86mhh240000gn/T/ipykernel_2969/2717321507.py:9: FutureWarning: A value is trying to be set on a copy of a DataFrame or Series through chained assignment using an inplace method.\n",
      "The behavior will change in pandas 3.0. This inplace method will never work because the intermediate object on which we are setting values always behaves as a copy.\n",
      "\n",
      "For example, when doing 'df[col].method(value, inplace=True)', try using 'df.method({col: value}, inplace=True)' or df[col] = df[col].method(value) instead, to perform the operation inplace on the original object.\n",
      "\n",
      "\n",
      "  df['weather_conditions'].fillna(df['road_surface_conditions'].map(conditions_mapping), inplace=True)\n"
     ]
    }
   ],
   "source": [
    "# Mapping Road Surface Conditions disesuaikan dengan Weather Conditions untuk mengisi missing values di kolom Weather Condition\n",
    "conditions_mapping = {\n",
    "    'Dry': 'Fine no high winds',\n",
    "    'Wet or damp': 'Raining no high winds',\n",
    "    'Snow': 'Snowing no high winds',\n",
    "    'Frost or ice': 'Snowing + high winds'\n",
    "}\n",
    "\n",
    "df['weather_conditions'].fillna(df['road_surface_conditions'].map(conditions_mapping), inplace=True)\n",
    "df['weather_conditions'].fillna('Other', inplace=True)"
   ]
  },
  {
   "cell_type": "code",
   "execution_count": 47,
   "metadata": {},
   "outputs": [
    {
     "name": "stderr",
     "output_type": "stream",
     "text": [
      "/var/folders/5y/d2m2nrkx3jv10nbjs86mhh240000gn/T/ipykernel_2969/1224385646.py:11: FutureWarning: A value is trying to be set on a copy of a DataFrame or Series through chained assignment using an inplace method.\n",
      "The behavior will change in pandas 3.0. This inplace method will never work because the intermediate object on which we are setting values always behaves as a copy.\n",
      "\n",
      "For example, when doing 'df[col].method(value, inplace=True)', try using 'df.method({col: value}, inplace=True)' or df[col] = df[col].method(value) instead, to perform the operation inplace on the original object.\n",
      "\n",
      "\n",
      "  df['time'].fillna(mean_time, inplace=True)\n"
     ]
    },
    {
     "data": {
      "text/plain": [
       "0"
      ]
     },
     "execution_count": 47,
     "metadata": {},
     "output_type": "execute_result"
    }
   ],
   "source": [
    "# memperbaiki format waktu\n",
    "df['time']= df['time'].str.split(':').str[0]\n",
    "\n",
    "# Convert kolom 'time' menjadi float\n",
    "df['time'] = df['time'].astype(float)\n",
    "\n",
    "# Mean data kolom time\n",
    "mean_time = df['time'].mean().round(0)\n",
    "\n",
    "# Fisi missing value kolom time dengan mean time\n",
    "df['time'].fillna(mean_time, inplace=True)\n",
    "\n",
    "df['time'].isnull().sum()"
   ]
  },
  {
   "cell_type": "code",
   "execution_count": 48,
   "metadata": {},
   "outputs": [
    {
     "data": {
      "text/plain": [
       "array(['Car', 'Taxi', 'Motorcycle', 'Van', 'Other', 'Bus', 'Pedal cycle',\n",
       "       'Ridden horse'], dtype=object)"
      ]
     },
     "execution_count": 48,
     "metadata": {},
     "output_type": "execute_result"
    }
   ],
   "source": [
    "# mengelompokkan vehicle type\n",
    "category_mapping = {\n",
    "    'Car': 'Car',\n",
    "    'Taxi/Private hire car': 'Taxi',\n",
    "    'Motorcycle over 500cc': 'Motorcycle',\n",
    "    'Van / Goods 3.5 tonnes mgw or under': 'Van',\n",
    "    'Goods over 3.5t. and under 7.5t': 'Other',\n",
    "    'Motorcycle 125cc and under': 'Motorcycle',\n",
    "    'Motorcycle 50cc and under': 'Motorcycle',\n",
    "    'Bus or coach (17 or more pass seats)': 'Bus',\n",
    "    'Goods 7.5 tonnes mgw and over': 'Other',\n",
    "    'Other vehicle': 'Other',\n",
    "    'Motorcycle over 125cc and up to 500cc': 'Motorcycle',\n",
    "    'Agricultural vehicle': 'Other',\n",
    "    'Minibus (8 - 16 passenger seats)': 'Other',\n",
    "    'Pedal cycle': 'Pedal cycle',\n",
    "    'Ridden horse': 'Ridden horse'\n",
    "}\n",
    "\n",
    "# Mengelompokkan tipe kendaraan di kolom 'vehicle_type' \n",
    "df['vehicle_type'] = df['vehicle_type'].map(category_mapping)\n",
    "\n",
    "df['vehicle_type'].unique()"
   ]
  },
  {
   "cell_type": "code",
   "execution_count": 92,
   "metadata": {},
   "outputs": [],
   "source": [
    "df.to_csv('Road_Accident_Data_Clean180725.csv', index=False)"
   ]
  },
  {
   "cell_type": "code",
   "execution_count": 93,
   "metadata": {},
   "outputs": [
    {
     "data": {
      "text/html": [
       "<div>\n",
       "<style scoped>\n",
       "    .dataframe tbody tr th:only-of-type {\n",
       "        vertical-align: middle;\n",
       "    }\n",
       "\n",
       "    .dataframe tbody tr th {\n",
       "        vertical-align: top;\n",
       "    }\n",
       "\n",
       "    .dataframe thead th {\n",
       "        text-align: right;\n",
       "    }\n",
       "</style>\n",
       "<table border=\"1\" class=\"dataframe\">\n",
       "  <thead>\n",
       "    <tr style=\"text-align: right;\">\n",
       "      <th></th>\n",
       "      <th>accident_index</th>\n",
       "      <th>accident date</th>\n",
       "      <th>day_of_week</th>\n",
       "      <th>junction_detail</th>\n",
       "      <th>accident_severity</th>\n",
       "      <th>latitude</th>\n",
       "      <th>light_conditions</th>\n",
       "      <th>longitude</th>\n",
       "      <th>number_of_casualties</th>\n",
       "      <th>number_of_vehicles</th>\n",
       "      <th>road_surface_conditions</th>\n",
       "      <th>road_type</th>\n",
       "      <th>speed_limit</th>\n",
       "      <th>time</th>\n",
       "      <th>urban_or_rural_area</th>\n",
       "      <th>weather_conditions</th>\n",
       "      <th>vehicle_type</th>\n",
       "      <th>severity_binary</th>\n",
       "      <th>month</th>\n",
       "      <th>is_serious</th>\n",
       "    </tr>\n",
       "  </thead>\n",
       "  <tbody>\n",
       "    <tr>\n",
       "      <th>0</th>\n",
       "      <td>200901BS70001</td>\n",
       "      <td>2021-01-01</td>\n",
       "      <td>Thursday</td>\n",
       "      <td>T or staggered junction</td>\n",
       "      <td>Serious</td>\n",
       "      <td>51.512273</td>\n",
       "      <td>Daylight</td>\n",
       "      <td>-0.201349</td>\n",
       "      <td>1</td>\n",
       "      <td>2</td>\n",
       "      <td>Dry</td>\n",
       "      <td>One way street</td>\n",
       "      <td>30</td>\n",
       "      <td>15.0</td>\n",
       "      <td>Urban</td>\n",
       "      <td>Fine no high winds</td>\n",
       "      <td>Car</td>\n",
       "      <td>Heavy</td>\n",
       "      <td>1</td>\n",
       "      <td>True</td>\n",
       "    </tr>\n",
       "    <tr>\n",
       "      <th>1</th>\n",
       "      <td>200901BS70002</td>\n",
       "      <td>2021-01-05</td>\n",
       "      <td>Monday</td>\n",
       "      <td>Crossroads</td>\n",
       "      <td>Serious</td>\n",
       "      <td>51.514399</td>\n",
       "      <td>Daylight</td>\n",
       "      <td>-0.199248</td>\n",
       "      <td>11</td>\n",
       "      <td>2</td>\n",
       "      <td>Wet or damp</td>\n",
       "      <td>Single carriageway</td>\n",
       "      <td>30</td>\n",
       "      <td>10.0</td>\n",
       "      <td>Urban</td>\n",
       "      <td>Fine no high winds</td>\n",
       "      <td>Taxi</td>\n",
       "      <td>Heavy</td>\n",
       "      <td>1</td>\n",
       "      <td>True</td>\n",
       "    </tr>\n",
       "    <tr>\n",
       "      <th>2</th>\n",
       "      <td>200901BS70003</td>\n",
       "      <td>2021-01-04</td>\n",
       "      <td>Sunday</td>\n",
       "      <td>T or staggered junction</td>\n",
       "      <td>Slight</td>\n",
       "      <td>51.486668</td>\n",
       "      <td>Daylight</td>\n",
       "      <td>-0.179599</td>\n",
       "      <td>1</td>\n",
       "      <td>2</td>\n",
       "      <td>Dry</td>\n",
       "      <td>Single carriageway</td>\n",
       "      <td>30</td>\n",
       "      <td>14.0</td>\n",
       "      <td>Urban</td>\n",
       "      <td>Fine no high winds</td>\n",
       "      <td>Taxi</td>\n",
       "      <td>Slight</td>\n",
       "      <td>1</td>\n",
       "      <td>False</td>\n",
       "    </tr>\n",
       "    <tr>\n",
       "      <th>3</th>\n",
       "      <td>200901BS70004</td>\n",
       "      <td>2021-01-05</td>\n",
       "      <td>Monday</td>\n",
       "      <td>T or staggered junction</td>\n",
       "      <td>Serious</td>\n",
       "      <td>51.507804</td>\n",
       "      <td>Daylight</td>\n",
       "      <td>-0.203110</td>\n",
       "      <td>1</td>\n",
       "      <td>2</td>\n",
       "      <td>Frost or ice</td>\n",
       "      <td>Single carriageway</td>\n",
       "      <td>30</td>\n",
       "      <td>8.0</td>\n",
       "      <td>Urban</td>\n",
       "      <td>Other</td>\n",
       "      <td>Motorcycle</td>\n",
       "      <td>Heavy</td>\n",
       "      <td>1</td>\n",
       "      <td>True</td>\n",
       "    </tr>\n",
       "    <tr>\n",
       "      <th>4</th>\n",
       "      <td>200901BS70005</td>\n",
       "      <td>2021-01-06</td>\n",
       "      <td>Tuesday</td>\n",
       "      <td>Crossroads</td>\n",
       "      <td>Serious</td>\n",
       "      <td>51.482076</td>\n",
       "      <td>Darkness - lights lit</td>\n",
       "      <td>-0.173445</td>\n",
       "      <td>1</td>\n",
       "      <td>2</td>\n",
       "      <td>Dry</td>\n",
       "      <td>Single carriageway</td>\n",
       "      <td>30</td>\n",
       "      <td>17.0</td>\n",
       "      <td>Urban</td>\n",
       "      <td>Fine no high winds</td>\n",
       "      <td>Car</td>\n",
       "      <td>Heavy</td>\n",
       "      <td>1</td>\n",
       "      <td>True</td>\n",
       "    </tr>\n",
       "  </tbody>\n",
       "</table>\n",
       "</div>"
      ],
      "text/plain": [
       "  accident_index accident date day_of_week          junction_detail  \\\n",
       "0  200901BS70001    2021-01-01    Thursday  T or staggered junction   \n",
       "1  200901BS70002    2021-01-05      Monday               Crossroads   \n",
       "2  200901BS70003    2021-01-04      Sunday  T or staggered junction   \n",
       "3  200901BS70004    2021-01-05      Monday  T or staggered junction   \n",
       "4  200901BS70005    2021-01-06     Tuesday               Crossroads   \n",
       "\n",
       "  accident_severity   latitude       light_conditions  longitude  \\\n",
       "0           Serious  51.512273               Daylight  -0.201349   \n",
       "1           Serious  51.514399               Daylight  -0.199248   \n",
       "2            Slight  51.486668               Daylight  -0.179599   \n",
       "3           Serious  51.507804               Daylight  -0.203110   \n",
       "4           Serious  51.482076  Darkness - lights lit  -0.173445   \n",
       "\n",
       "   number_of_casualties  number_of_vehicles road_surface_conditions  \\\n",
       "0                     1                   2                     Dry   \n",
       "1                    11                   2             Wet or damp   \n",
       "2                     1                   2                     Dry   \n",
       "3                     1                   2            Frost or ice   \n",
       "4                     1                   2                     Dry   \n",
       "\n",
       "            road_type  speed_limit  time urban_or_rural_area  \\\n",
       "0      One way street           30  15.0               Urban   \n",
       "1  Single carriageway           30  10.0               Urban   \n",
       "2  Single carriageway           30  14.0               Urban   \n",
       "3  Single carriageway           30   8.0               Urban   \n",
       "4  Single carriageway           30  17.0               Urban   \n",
       "\n",
       "   weather_conditions vehicle_type severity_binary  month  is_serious  \n",
       "0  Fine no high winds          Car           Heavy      1        True  \n",
       "1  Fine no high winds         Taxi           Heavy      1        True  \n",
       "2  Fine no high winds         Taxi          Slight      1       False  \n",
       "3               Other   Motorcycle           Heavy      1        True  \n",
       "4  Fine no high winds          Car           Heavy      1        True  "
      ]
     },
     "execution_count": 93,
     "metadata": {},
     "output_type": "execute_result"
    }
   ],
   "source": [
    "df = pd.read_csv('/Volumes/Data-Disk/Hacktiv8/CODA_RMT_007/Phase_1/tugas/p1-coda007-rmt-m2-ilmimada/Road_Accident_Data_Clean180725.csv')\n",
    "df.head()"
   ]
  },
  {
   "cell_type": "code",
   "execution_count": 54,
   "metadata": {},
   "outputs": [
    {
     "data": {
      "text/html": [
       "<div>\n",
       "<style scoped>\n",
       "    .dataframe tbody tr th:only-of-type {\n",
       "        vertical-align: middle;\n",
       "    }\n",
       "\n",
       "    .dataframe tbody tr th {\n",
       "        vertical-align: top;\n",
       "    }\n",
       "\n",
       "    .dataframe thead th {\n",
       "        text-align: right;\n",
       "    }\n",
       "</style>\n",
       "<table border=\"1\" class=\"dataframe\">\n",
       "  <thead>\n",
       "    <tr style=\"text-align: right;\">\n",
       "      <th></th>\n",
       "      <th>accident_index</th>\n",
       "      <th>accident date</th>\n",
       "      <th>day_of_week</th>\n",
       "      <th>junction_detail</th>\n",
       "      <th>accident_severity</th>\n",
       "      <th>latitude</th>\n",
       "      <th>light_conditions</th>\n",
       "      <th>longitude</th>\n",
       "      <th>number_of_casualties</th>\n",
       "      <th>number_of_vehicles</th>\n",
       "      <th>road_surface_conditions</th>\n",
       "      <th>road_type</th>\n",
       "      <th>speed_limit</th>\n",
       "      <th>time</th>\n",
       "      <th>urban_or_rural_area</th>\n",
       "      <th>weather_conditions</th>\n",
       "      <th>vehicle_type</th>\n",
       "      <th>severity_binary</th>\n",
       "    </tr>\n",
       "  </thead>\n",
       "  <tbody>\n",
       "    <tr>\n",
       "      <th>0</th>\n",
       "      <td>200901BS70001</td>\n",
       "      <td>2021-01-01</td>\n",
       "      <td>Thursday</td>\n",
       "      <td>T or staggered junction</td>\n",
       "      <td>Serious</td>\n",
       "      <td>51.512273</td>\n",
       "      <td>Daylight</td>\n",
       "      <td>-0.201349</td>\n",
       "      <td>1</td>\n",
       "      <td>2</td>\n",
       "      <td>Dry</td>\n",
       "      <td>One way street</td>\n",
       "      <td>30</td>\n",
       "      <td>15.0</td>\n",
       "      <td>Urban</td>\n",
       "      <td>Fine no high winds</td>\n",
       "      <td>Car</td>\n",
       "      <td>Heavy</td>\n",
       "    </tr>\n",
       "    <tr>\n",
       "      <th>1</th>\n",
       "      <td>200901BS70002</td>\n",
       "      <td>2021-01-05</td>\n",
       "      <td>Monday</td>\n",
       "      <td>Crossroads</td>\n",
       "      <td>Serious</td>\n",
       "      <td>51.514399</td>\n",
       "      <td>Daylight</td>\n",
       "      <td>-0.199248</td>\n",
       "      <td>11</td>\n",
       "      <td>2</td>\n",
       "      <td>Wet or damp</td>\n",
       "      <td>Single carriageway</td>\n",
       "      <td>30</td>\n",
       "      <td>10.0</td>\n",
       "      <td>Urban</td>\n",
       "      <td>Fine no high winds</td>\n",
       "      <td>Taxi</td>\n",
       "      <td>Heavy</td>\n",
       "    </tr>\n",
       "    <tr>\n",
       "      <th>2</th>\n",
       "      <td>200901BS70003</td>\n",
       "      <td>2021-01-04</td>\n",
       "      <td>Sunday</td>\n",
       "      <td>T or staggered junction</td>\n",
       "      <td>Slight</td>\n",
       "      <td>51.486668</td>\n",
       "      <td>Daylight</td>\n",
       "      <td>-0.179599</td>\n",
       "      <td>1</td>\n",
       "      <td>2</td>\n",
       "      <td>Dry</td>\n",
       "      <td>Single carriageway</td>\n",
       "      <td>30</td>\n",
       "      <td>14.0</td>\n",
       "      <td>Urban</td>\n",
       "      <td>Fine no high winds</td>\n",
       "      <td>Taxi</td>\n",
       "      <td>Slight</td>\n",
       "    </tr>\n",
       "    <tr>\n",
       "      <th>3</th>\n",
       "      <td>200901BS70004</td>\n",
       "      <td>2021-01-05</td>\n",
       "      <td>Monday</td>\n",
       "      <td>T or staggered junction</td>\n",
       "      <td>Serious</td>\n",
       "      <td>51.507804</td>\n",
       "      <td>Daylight</td>\n",
       "      <td>-0.203110</td>\n",
       "      <td>1</td>\n",
       "      <td>2</td>\n",
       "      <td>Frost or ice</td>\n",
       "      <td>Single carriageway</td>\n",
       "      <td>30</td>\n",
       "      <td>8.0</td>\n",
       "      <td>Urban</td>\n",
       "      <td>Other</td>\n",
       "      <td>Motorcycle</td>\n",
       "      <td>Heavy</td>\n",
       "    </tr>\n",
       "    <tr>\n",
       "      <th>4</th>\n",
       "      <td>200901BS70005</td>\n",
       "      <td>2021-01-06</td>\n",
       "      <td>Tuesday</td>\n",
       "      <td>Crossroads</td>\n",
       "      <td>Serious</td>\n",
       "      <td>51.482076</td>\n",
       "      <td>Darkness - lights lit</td>\n",
       "      <td>-0.173445</td>\n",
       "      <td>1</td>\n",
       "      <td>2</td>\n",
       "      <td>Dry</td>\n",
       "      <td>Single carriageway</td>\n",
       "      <td>30</td>\n",
       "      <td>17.0</td>\n",
       "      <td>Urban</td>\n",
       "      <td>Fine no high winds</td>\n",
       "      <td>Car</td>\n",
       "      <td>Heavy</td>\n",
       "    </tr>\n",
       "  </tbody>\n",
       "</table>\n",
       "</div>"
      ],
      "text/plain": [
       "  accident_index accident date day_of_week          junction_detail  \\\n",
       "0  200901BS70001    2021-01-01    Thursday  T or staggered junction   \n",
       "1  200901BS70002    2021-01-05      Monday               Crossroads   \n",
       "2  200901BS70003    2021-01-04      Sunday  T or staggered junction   \n",
       "3  200901BS70004    2021-01-05      Monday  T or staggered junction   \n",
       "4  200901BS70005    2021-01-06     Tuesday               Crossroads   \n",
       "\n",
       "  accident_severity   latitude       light_conditions  longitude  \\\n",
       "0           Serious  51.512273               Daylight  -0.201349   \n",
       "1           Serious  51.514399               Daylight  -0.199248   \n",
       "2            Slight  51.486668               Daylight  -0.179599   \n",
       "3           Serious  51.507804               Daylight  -0.203110   \n",
       "4           Serious  51.482076  Darkness - lights lit  -0.173445   \n",
       "\n",
       "   number_of_casualties  number_of_vehicles road_surface_conditions  \\\n",
       "0                     1                   2                     Dry   \n",
       "1                    11                   2             Wet or damp   \n",
       "2                     1                   2                     Dry   \n",
       "3                     1                   2            Frost or ice   \n",
       "4                     1                   2                     Dry   \n",
       "\n",
       "            road_type  speed_limit  time urban_or_rural_area  \\\n",
       "0      One way street           30  15.0               Urban   \n",
       "1  Single carriageway           30  10.0               Urban   \n",
       "2  Single carriageway           30  14.0               Urban   \n",
       "3  Single carriageway           30   8.0               Urban   \n",
       "4  Single carriageway           30  17.0               Urban   \n",
       "\n",
       "   weather_conditions vehicle_type severity_binary  \n",
       "0  Fine no high winds          Car           Heavy  \n",
       "1  Fine no high winds         Taxi           Heavy  \n",
       "2  Fine no high winds         Taxi          Slight  \n",
       "3               Other   Motorcycle           Heavy  \n",
       "4  Fine no high winds          Car           Heavy  "
      ]
     },
     "execution_count": 54,
     "metadata": {},
     "output_type": "execute_result"
    }
   ],
   "source": [
    "# membuat kelompok tingkat keparahan kecelakaan\n",
    "df['severity_binary'] = np.where(df['accident_severity'].isin(['Serious','Fatal']), 'Heavy', 'Slight')\n",
    "df.head()"
   ]
  },
  {
   "cell_type": "code",
   "execution_count": 57,
   "metadata": {},
   "outputs": [
    {
     "data": {
      "text/plain": [
       "dtype('<M8[ns]')"
      ]
     },
     "execution_count": 57,
     "metadata": {},
     "output_type": "execute_result"
    }
   ],
   "source": [
    "# Convert to datetime\n",
    "df['accident date'] = pd.to_datetime(df['accident date'], errors='coerce')\n",
    "df['accident date'].dtype  # should show datetime64[ns]"
   ]
  },
  {
   "cell_type": "markdown",
   "metadata": {},
   "source": [
    "## IV. Analisis dan Perhitungan"
   ]
  },
  {
   "cell_type": "markdown",
   "metadata": {},
   "source": [
    "### Visualisasi Data"
   ]
  },
  {
   "cell_type": "markdown",
   "metadata": {},
   "source": [
    "#### 1. Pada jam berapa sering terjadi kecelakaan fatal?"
   ]
  },
  {
   "cell_type": "code",
   "execution_count": null,
   "metadata": {},
   "outputs": [
    {
     "data": {
      "image/png": "[encoded data removed]",
      "text/plain": [
       "<Figure size 1000x400 with 1 Axes>"
      ]
     },
     "metadata": {},
     "output_type": "display_data"
    }
   ],
   "source": [
    "df['is_serious'] = df['accident_severity'] == 'Serious'\n",
    "\n",
    "plt.figure(figsize=(10,4))\n",
    "sns.histplot(data=df[df['is_serious']], x='time', bins=24, color='crimson', kde=False)\n",
    "plt.title('Frekuensi Kecelakaan SERIOUS per Jam (Jan 2021)')\n",
    "plt.xlabel('Jam Kejadian')\n",
    "plt.ylabel('Jumlah Kasus SERIOUS')\n",
    "plt.xticks(range(0,24))\n",
    "plt.tight_layout()\n",
    "plt.show()"
   ]
  },
  {
   "cell_type": "markdown",
   "metadata": {},
   "source": [
    "Paling sering terjadi kecelakaan fatal pada jam 8 dan 17, ditunjukkan dengan adanya puncak grafik. hal ini menunjukkan bahwa terjadinya kecelakaan pada saat jam sibuk pergi dan pulang kantor."
   ]
  },
  {
   "cell_type": "markdown",
   "metadata": {},
   "source": [
    "#### 2. Bagaimana pengaruh cuaca terhadap keparahan kecelakaan?"
   ]
  },
  {
   "cell_type": "code",
   "execution_count": 82,
   "metadata": {},
   "outputs": [
    {
     "data": {
      "image/png": "[encoded data removed]",
      "text/plain": [
       "<Figure size 800x400 with 1 Axes>"
      ]
     },
     "metadata": {},
     "output_type": "display_data"
    }
   ],
   "source": [
    "plt.figure(figsize=(8,4))\n",
    "sns.countplot(data=df, x='weather_conditions', hue='is_serious')\n",
    "plt.title('Jumlah Kecelakaan per Cuaca (Serious vs Lainnya)')\n",
    "plt.xticks(rotation=45, ha='right')\n",
    "plt.legend(title='Serious?')\n",
    "plt.tight_layout()\n",
    "plt.show()"
   ]
  },
  {
   "cell_type": "markdown",
   "metadata": {},
   "source": [
    "Cuaca no high winds mendominasi kasus serius, menandakan faktor non-cuaca lebih dominan."
   ]
  },
  {
   "cell_type": "markdown",
   "metadata": {},
   "source": [
    "#### 3. Apakah permukaan jalan menjadi faktor keparahan kecelakaan?"
   ]
  },
  {
   "cell_type": "code",
   "execution_count": 83,
   "metadata": {},
   "outputs": [
    {
     "data": {
      "image/png": "[encoded data removed]",
      "text/plain": [
       "<Figure size 800x400 with 1 Axes>"
      ]
     },
     "metadata": {},
     "output_type": "display_data"
    }
   ],
   "source": [
    "plt.figure(figsize=(8,4))\n",
    "sns.countplot(data=df, x='road_surface_conditions', hue='is_serious')\n",
    "plt.title('Distribusi Kasus per Kondisi Permukaan Jalan')\n",
    "plt.xticks(rotation=30, ha='right')\n",
    "plt.legend(title='Serious?')\n",
    "plt.tight_layout()\n",
    "plt.show()"
   ]
  },
  {
   "cell_type": "markdown",
   "metadata": {},
   "source": [
    "Permukaan kering memiliki proporsi lebih tinggi daripada permukaan basa atau wet, ini menunjukkan bahwa faktor kecelakaan tidak terlalu dipengaruhi kondisi jalan yang tidak kering."
   ]
  },
  {
   "cell_type": "markdown",
   "metadata": {},
   "source": [
    "#### 4. Bagaimana distribusi kecelakaan per hari?"
   ]
  },
  {
   "cell_type": "code",
   "execution_count": 77,
   "metadata": {},
   "outputs": [
    {
     "data": {
      "image/png": "[encoded data removed]",
      "text/plain": [
       "<Figure size 800x400 with 1 Axes>"
      ]
     },
     "metadata": {},
     "output_type": "display_data"
    }
   ],
   "source": [
    "plt.figure(figsize=(8,4))\n",
    "sns.countplot(data=df, x='day_of_week', hue='is_serious',\n",
    "              order=['Monday','Tuesday','Wednesday','Thursday','Friday','Saturday','Sunday'])\n",
    "plt.title('Jumlah Kecelakaan SERIOUS per Hari')\n",
    "plt.legend(title='Serious?')\n",
    "plt.tight_layout()\n",
    "plt.show()"
   ]
  },
  {
   "cell_type": "markdown",
   "metadata": {},
   "source": [
    "Pada hari Jumat kasus kecelakaan memuncak, kemungkinan karena volume kendaraan yang meningkat saat menjelang weekend."
   ]
  },
  {
   "cell_type": "markdown",
   "metadata": {},
   "source": [
    "#### 5. Tipe kendaraan apa saja yang paling banyak kecelakaan?"
   ]
  },
  {
   "cell_type": "code",
   "execution_count": 87,
   "metadata": {},
   "outputs": [
    {
     "data": {
      "text/plain": [
       "Text(0.5, 1.0, 'Vehicle Type vs Severity')"
      ]
     },
     "execution_count": 87,
     "metadata": {},
     "output_type": "execute_result"
    },
    {
     "data": {
      "image/png": "[encoded data removed]",
      "text/plain": [
       "<Figure size 640x480 with 1 Axes>"
      ]
     },
     "metadata": {},
     "output_type": "display_data"
    }
   ],
   "source": [
    "sns.countplot(y='vehicle_type', hue='severity_binary', data=df, order=df['vehicle_type'].value_counts().index)\n",
    "plt.title('Vehicle Type vs Severity')"
   ]
  },
  {
   "cell_type": "markdown",
   "metadata": {},
   "source": [
    "Tipe kendaraan Mobil menunjukkan grafik yang signifikan, kemungkinan karena di London sangat jarang ada sepeda motor."
   ]
  },
  {
   "cell_type": "markdown",
   "metadata": {},
   "source": [
    "### Statistik Deskriptif\n",
    "#### 6. Distribusi jumlah korban pada kasus serius"
   ]
  },
  {
   "cell_type": "code",
   "execution_count": 78,
   "metadata": {},
   "outputs": [
    {
     "name": "stdout",
     "output_type": "stream",
     "text": [
      "count    40740.000000\n",
      "mean         1.455866\n",
      "std          1.008319\n",
      "min          1.000000\n",
      "25%          1.000000\n",
      "50%          1.000000\n",
      "75%          2.000000\n",
      "max         42.000000\n",
      "Name: number_of_casualties, dtype: float64\n"
     ]
    },
    {
     "data": {
      "image/png": "[encoded data removed]",
      "text/plain": [
       "<Figure size 600x400 with 1 Axes>"
      ]
     },
     "metadata": {},
     "output_type": "display_data"
    }
   ],
   "source": [
    "serious = df[df['is_serious']]['number_of_casualties']\n",
    "desc = serious.describe()\n",
    "print(desc)\n",
    "\n",
    "plt.figure(figsize=(6,4))\n",
    "sns.boxplot(y=serious, color='salmon')\n",
    "plt.title('Distribusi Jumlah Korban pada Kasus SERIOUS')\n",
    "plt.ylabel('Number of Casualties')\n",
    "plt.show()"
   ]
  },
  {
   "cell_type": "markdown",
   "metadata": {},
   "source": [
    "Mayoritas kecelakaan serius menimbulkan korban 1 orang, namun keberadaan outlier 42 orang korban menjadi pertanda untuk intervensi spesifik di titik rawan kecelakaan"
   ]
  },
  {
   "cell_type": "markdown",
   "metadata": {},
   "source": [
    "### Statistik Inferensial"
   ]
  },
  {
   "cell_type": "markdown",
   "metadata": {},
   "source": [
    "#### 7. Resiko kecelakaan di area Urban vs Rural (χ² test)"
   ]
  },
  {
   "cell_type": "code",
   "execution_count": 84,
   "metadata": {},
   "outputs": [
    {
     "name": "stdout",
     "output_type": "stream",
     "text": [
      "Tabel kontingensi:\n",
      "is_serious            False  True \n",
      "urban_or_rural_area               \n",
      "Rural                 92213  17228\n",
      "Urban                175020  23512\n",
      "\n",
      "χ² = 933.98,  p-value = 0.0000\n"
     ]
    },
    {
     "data": {
      "image/png": "[encoded data removed]",
      "text/plain": [
       "<Figure size 500x300 with 2 Axes>"
      ]
     },
     "metadata": {},
     "output_type": "display_data"
    }
   ],
   "source": [
    "ct = pd.crosstab(df['urban_or_rural_area'], df['is_serious'])\n",
    "chi2, p, dof, expected = chi2_contingency(ct)\n",
    "\n",
    "print(\"Tabel kontingensi:\")\n",
    "print(ct)\n",
    "print(f\"\\nχ² = {chi2:.2f},  p-value = {p:.4f}\")\n",
    "\n",
    "# Visual ringkas\n",
    "plt.figure(figsize=(5,3))\n",
    "sns.heatmap(ct, annot=True, fmt='d', cmap='Blues')\n",
    "plt.title('Urban vs Rural × Serious Accident')\n",
    "plt.ylabel('Area')\n",
    "plt.xlabel('Serious?')\n",
    "plt.tight_layout()\n",
    "plt.show()"
   ]
  },
  {
   "cell_type": "markdown",
   "metadata": {},
   "source": [
    "H₀ : proporsi kecelakaan serius sama antara area Urban dan Rural\n",
    "\n",
    "H₁ : proporsi kecelakaan serius berbeda antara keduanya\n",
    "\n",
    "χ² = 933.98\n",
    "\n",
    "p-value ≈ 0.0000  → p < 0.001\n",
    "\n",
    "Sehingga Tolak H₀ : ada perbedaan proporsi yang sangat signifikan.\n",
    "\n",
    "Area Rural lebih beresiko terhadap kecelakaan serius dibandingkan dengan Urban."
   ]
  },
  {
   "cell_type": "markdown",
   "metadata": {},
   "source": [
    "## V. Kesimpulan"
   ]
  },
  {
   "cell_type": "markdown",
   "metadata": {},
   "source": [
    "#### Berdasarkan analisis terhadap dataset kecelakaan lalu lintas selama bulan Januari 2021, diperoleh beberapa temuan penting:\n",
    "\n",
    "1. Waktu Rawan Kecelakaan:\n",
    "\n",
    "- Kecelakaan paling sering terjadi pada jam 17:00 – 18:00, yaitu menjelang waktu pulang kerja.\n",
    "\n",
    "- Sebagian besar terjadi pada hari kerja, terutama hari Jumat.\n",
    "\n",
    "2. Kondisi Lingkungan:\n",
    "\n",
    "- Mayoritas kecelakaan terjadi saat cuaca cerah (Fine no high winds) dan pada siang hari (Daylight), yang menunjukkan bahwa faktor non-cuaca juga signifikan.\n",
    "\n",
    "- Permukaan jalan kering (Dry) adalah kondisi paling umum saat kecelakaan terjadi.\n",
    "\n",
    "3. Tipe Lokasi dan Jalan:\n",
    "\n",
    "- T atau staggered junctions merupakan lokasi persimpangan paling sering terjadi kecelakaan.\n",
    "\n",
    "- Jalan satu arah (One way street) dan jalan dua arah tanpa median banyak terlibat kecelakaan.\n",
    "\n",
    "4. Jumlah Korban & Kendaraan:\n",
    "\n",
    "- Sebagian besar kecelakaan hanya melibatkan 1–2 kendaraan dan 1 korban.\n",
    "\n",
    "- Namun, insiden dengan lebih dari 3 kendaraan menunjukkan potensi korban yang lebih banyak.\n",
    "\n",
    "5. Tipe Kendaraan:\n",
    "\n",
    "- Mobil pribadi (Car) adalah kendaraan yang paling sering terlibat, diikuti oleh motor.\n",
    "\n",
    "#### Rekomendasi\n",
    "- Peningkatan pengawasan lalu lintas pada jam sibuk (7-9 dan 16-18) dengan patroli atau menambah CCTV.\n",
    "\n",
    "- Perbaikan infrastruktur dan rambu di area persimpangan T/staggered, karena merupakan titik rawan.\n",
    "\n",
    "- Edukasi pengguna jalan bahwa kecelakaan bisa terjadi bahkan saat kondisi jalan dan cuaca baik.\n",
    "\n",
    "- Kampanye keselamatan berkendara untuk pengguna mobil dan motor, mengingat keterlibatannya paling tinggi.\n",
    "\n",
    "\n"
   ]
  }
 ],
 "metadata": {
  "kernelspec": {
   "display_name": "base",
   "language": "python",
   "name": "python3"
  },
  "language_info": {
   "codemirror_mode": {
    "name": "ipython",
    "version": 3
   },
   "file_extension": ".py",
   "mimetype": "text/x-python",
   "name": "python",
   "nbconvert_exporter": "python",
   "pygments_lexer": "ipython3",
   "version": "3.12.7"
  }
 },
 "nbformat": 4,
 "nbformat_minor": 2
}
